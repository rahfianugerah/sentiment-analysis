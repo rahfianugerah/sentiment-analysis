{
  "cells": [
    {
      "cell_type": "markdown",
      "metadata": {
        "id": "AF-b6XnEklgD"
      },
      "source": [
        "# Natural Language Processing: Emotions Sentiment Analysis using TensorFlow with LSTM"
      ]
    },
    {
      "cell_type": "markdown",
      "source": [
        "## Install Kaggle and Config Kaggle"
      ],
      "metadata": {
        "id": "GCMQWeDfjWLQ"
      }
    },
    {
      "cell_type": "code",
      "execution_count": 1,
      "metadata": {
        "id": "yGh6Ox6jlcTK"
      },
      "outputs": [],
      "source": [
        "# Install Kaggle using pip\n",
        "!pip install -q kaggle"
      ]
    },
    {
      "cell_type": "code",
      "execution_count": 2,
      "metadata": {
        "colab": {
          "base_uri": "https://localhost:8080/",
          "height": 89
        },
        "id": "HxsrAn6lle7Q",
        "outputId": "742ca615-2305-4ae2-d0e4-0a60372b9e76"
      },
      "outputs": [
        {
          "output_type": "display_data",
          "data": {
            "text/plain": [
              "<IPython.core.display.HTML object>"
            ],
            "text/html": [
              "\n",
              "     <input type=\"file\" id=\"files-cb8dd006-d709-4037-a42c-9d86cdca50e4\" name=\"files[]\" multiple disabled\n",
              "        style=\"border:none\" />\n",
              "     <output id=\"result-cb8dd006-d709-4037-a42c-9d86cdca50e4\">\n",
              "      Upload widget is only available when the cell has been executed in the\n",
              "      current browser session. Please rerun this cell to enable.\n",
              "      </output>\n",
              "      <script>// Copyright 2017 Google LLC\n",
              "//\n",
              "// Licensed under the Apache License, Version 2.0 (the \"License\");\n",
              "// you may not use this file except in compliance with the License.\n",
              "// You may obtain a copy of the License at\n",
              "//\n",
              "//      http://www.apache.org/licenses/LICENSE-2.0\n",
              "//\n",
              "// Unless required by applicable law or agreed to in writing, software\n",
              "// distributed under the License is distributed on an \"AS IS\" BASIS,\n",
              "// WITHOUT WARRANTIES OR CONDITIONS OF ANY KIND, either express or implied.\n",
              "// See the License for the specific language governing permissions and\n",
              "// limitations under the License.\n",
              "\n",
              "/**\n",
              " * @fileoverview Helpers for google.colab Python module.\n",
              " */\n",
              "(function(scope) {\n",
              "function span(text, styleAttributes = {}) {\n",
              "  const element = document.createElement('span');\n",
              "  element.textContent = text;\n",
              "  for (const key of Object.keys(styleAttributes)) {\n",
              "    element.style[key] = styleAttributes[key];\n",
              "  }\n",
              "  return element;\n",
              "}\n",
              "\n",
              "// Max number of bytes which will be uploaded at a time.\n",
              "const MAX_PAYLOAD_SIZE = 100 * 1024;\n",
              "\n",
              "function _uploadFiles(inputId, outputId) {\n",
              "  const steps = uploadFilesStep(inputId, outputId);\n",
              "  const outputElement = document.getElementById(outputId);\n",
              "  // Cache steps on the outputElement to make it available for the next call\n",
              "  // to uploadFilesContinue from Python.\n",
              "  outputElement.steps = steps;\n",
              "\n",
              "  return _uploadFilesContinue(outputId);\n",
              "}\n",
              "\n",
              "// This is roughly an async generator (not supported in the browser yet),\n",
              "// where there are multiple asynchronous steps and the Python side is going\n",
              "// to poll for completion of each step.\n",
              "// This uses a Promise to block the python side on completion of each step,\n",
              "// then passes the result of the previous step as the input to the next step.\n",
              "function _uploadFilesContinue(outputId) {\n",
              "  const outputElement = document.getElementById(outputId);\n",
              "  const steps = outputElement.steps;\n",
              "\n",
              "  const next = steps.next(outputElement.lastPromiseValue);\n",
              "  return Promise.resolve(next.value.promise).then((value) => {\n",
              "    // Cache the last promise value to make it available to the next\n",
              "    // step of the generator.\n",
              "    outputElement.lastPromiseValue = value;\n",
              "    return next.value.response;\n",
              "  });\n",
              "}\n",
              "\n",
              "/**\n",
              " * Generator function which is called between each async step of the upload\n",
              " * process.\n",
              " * @param {string} inputId Element ID of the input file picker element.\n",
              " * @param {string} outputId Element ID of the output display.\n",
              " * @return {!Iterable<!Object>} Iterable of next steps.\n",
              " */\n",
              "function* uploadFilesStep(inputId, outputId) {\n",
              "  const inputElement = document.getElementById(inputId);\n",
              "  inputElement.disabled = false;\n",
              "\n",
              "  const outputElement = document.getElementById(outputId);\n",
              "  outputElement.innerHTML = '';\n",
              "\n",
              "  const pickedPromise = new Promise((resolve) => {\n",
              "    inputElement.addEventListener('change', (e) => {\n",
              "      resolve(e.target.files);\n",
              "    });\n",
              "  });\n",
              "\n",
              "  const cancel = document.createElement('button');\n",
              "  inputElement.parentElement.appendChild(cancel);\n",
              "  cancel.textContent = 'Cancel upload';\n",
              "  const cancelPromise = new Promise((resolve) => {\n",
              "    cancel.onclick = () => {\n",
              "      resolve(null);\n",
              "    };\n",
              "  });\n",
              "\n",
              "  // Wait for the user to pick the files.\n",
              "  const files = yield {\n",
              "    promise: Promise.race([pickedPromise, cancelPromise]),\n",
              "    response: {\n",
              "      action: 'starting',\n",
              "    }\n",
              "  };\n",
              "\n",
              "  cancel.remove();\n",
              "\n",
              "  // Disable the input element since further picks are not allowed.\n",
              "  inputElement.disabled = true;\n",
              "\n",
              "  if (!files) {\n",
              "    return {\n",
              "      response: {\n",
              "        action: 'complete',\n",
              "      }\n",
              "    };\n",
              "  }\n",
              "\n",
              "  for (const file of files) {\n",
              "    const li = document.createElement('li');\n",
              "    li.append(span(file.name, {fontWeight: 'bold'}));\n",
              "    li.append(span(\n",
              "        `(${file.type || 'n/a'}) - ${file.size} bytes, ` +\n",
              "        `last modified: ${\n",
              "            file.lastModifiedDate ? file.lastModifiedDate.toLocaleDateString() :\n",
              "                                    'n/a'} - `));\n",
              "    const percent = span('0% done');\n",
              "    li.appendChild(percent);\n",
              "\n",
              "    outputElement.appendChild(li);\n",
              "\n",
              "    const fileDataPromise = new Promise((resolve) => {\n",
              "      const reader = new FileReader();\n",
              "      reader.onload = (e) => {\n",
              "        resolve(e.target.result);\n",
              "      };\n",
              "      reader.readAsArrayBuffer(file);\n",
              "    });\n",
              "    // Wait for the data to be ready.\n",
              "    let fileData = yield {\n",
              "      promise: fileDataPromise,\n",
              "      response: {\n",
              "        action: 'continue',\n",
              "      }\n",
              "    };\n",
              "\n",
              "    // Use a chunked sending to avoid message size limits. See b/62115660.\n",
              "    let position = 0;\n",
              "    do {\n",
              "      const length = Math.min(fileData.byteLength - position, MAX_PAYLOAD_SIZE);\n",
              "      const chunk = new Uint8Array(fileData, position, length);\n",
              "      position += length;\n",
              "\n",
              "      const base64 = btoa(String.fromCharCode.apply(null, chunk));\n",
              "      yield {\n",
              "        response: {\n",
              "          action: 'append',\n",
              "          file: file.name,\n",
              "          data: base64,\n",
              "        },\n",
              "      };\n",
              "\n",
              "      let percentDone = fileData.byteLength === 0 ?\n",
              "          100 :\n",
              "          Math.round((position / fileData.byteLength) * 100);\n",
              "      percent.textContent = `${percentDone}% done`;\n",
              "\n",
              "    } while (position < fileData.byteLength);\n",
              "  }\n",
              "\n",
              "  // All done.\n",
              "  yield {\n",
              "    response: {\n",
              "      action: 'complete',\n",
              "    }\n",
              "  };\n",
              "}\n",
              "\n",
              "scope.google = scope.google || {};\n",
              "scope.google.colab = scope.google.colab || {};\n",
              "scope.google.colab._files = {\n",
              "  _uploadFiles,\n",
              "  _uploadFilesContinue,\n",
              "};\n",
              "})(self);\n",
              "</script> "
            ]
          },
          "metadata": {}
        },
        {
          "output_type": "stream",
          "name": "stdout",
          "text": [
            "Saving kaggle.json to kaggle.json\n"
          ]
        },
        {
          "output_type": "execute_result",
          "data": {
            "text/plain": [
              "{'kaggle.json': b'{\"username\":\"nrahfi\",\"key\":\"d590799ea549819d02256987601dbc43\"}'}"
            ]
          },
          "metadata": {},
          "execution_count": 2
        }
      ],
      "source": [
        "from google.colab import files\n",
        "files.upload()"
      ]
    },
    {
      "cell_type": "code",
      "execution_count": 3,
      "metadata": {
        "colab": {
          "base_uri": "https://localhost:8080/"
        },
        "id": "NjlxpboMlZsZ",
        "outputId": "db91abcc-18e8-4c8d-849f-e548e69e8441"
      },
      "outputs": [
        {
          "output_type": "stream",
          "name": "stdout",
          "text": [
            "kaggle.json\n"
          ]
        }
      ],
      "source": [
        "!mkdir -p ~/.kaggle\n",
        "!cp kaggle.json ~/.kaggle/\n",
        "!chmod 600 ~/.kaggle/kaggle.json\n",
        "!ls ~/.kaggle"
      ]
    },
    {
      "cell_type": "markdown",
      "source": [
        "## Download Dataset from Kaggle"
      ],
      "metadata": {
        "id": "OuhB469njZN9"
      }
    },
    {
      "cell_type": "code",
      "execution_count": 4,
      "metadata": {
        "colab": {
          "base_uri": "https://localhost:8080/"
        },
        "id": "RQ_PiMA4l789",
        "outputId": "0eb57f1d-6909-4951-8bde-cdb6af7bd7c6"
      },
      "outputs": [
        {
          "output_type": "stream",
          "name": "stdout",
          "text": [
            "Downloading emotion-dataset.zip to /content\n",
            "\r  0% 0.00/213k [00:00<?, ?B/s]\n",
            "\r100% 213k/213k [00:00<00:00, 112MB/s]\n"
          ]
        }
      ],
      "source": [
        "# Download Dataset\n",
        "!kaggle datasets download -d abdallahwagih/emotion-dataset"
      ]
    },
    {
      "cell_type": "markdown",
      "source": [
        "## Import Required Library"
      ],
      "metadata": {
        "id": "A-3fJ5m0jk6A"
      }
    },
    {
      "cell_type": "code",
      "execution_count": 5,
      "metadata": {
        "id": "G9-ScUWIlqHq"
      },
      "outputs": [],
      "source": [
        "# Import Required Library\n",
        "import pandas as pd\n",
        "import numpy as np\n",
        "import matplotlib.pyplot as plt\n",
        "import seaborn as sb\n",
        "import tensorflow as tf\n",
        "import zipfile\n",
        "from sklearn.preprocessing import OneHotEncoder\n",
        "from sklearn.model_selection import train_test_split\n",
        "from tensorflow.keras.preprocessing.text import Tokenizer\n",
        "from tensorflow.keras.preprocessing.sequence import pad_sequences\n",
        "from tensorflow.keras.layers import LSTM, Dense, Embedding, Dropout\n",
        "from tensorflow.keras.models import Sequential\n",
        "from tensorflow.keras.utils import to_categorical"
      ]
    },
    {
      "cell_type": "markdown",
      "source": [
        "## Extract File Zip"
      ],
      "metadata": {
        "id": "EckFmqxqoJd5"
      }
    },
    {
      "cell_type": "code",
      "execution_count": 6,
      "metadata": {
        "id": "37qSCfjlmjI9"
      },
      "outputs": [],
      "source": [
        "# Extract File Zip\n",
        "data_dir = \"/content/\"\n",
        "zip_dir = f\"{data_dir}/emotion-dataset.zip\"\n",
        "zip = zipfile.ZipFile(zip_dir, 'r')\n",
        "zip.extractall('/content')\n",
        "zip.close()"
      ]
    },
    {
      "cell_type": "markdown",
      "source": [
        "## Open File Dataset"
      ],
      "metadata": {
        "id": "wLtoO5LIoLxv"
      }
    },
    {
      "cell_type": "code",
      "execution_count": 7,
      "metadata": {
        "colab": {
          "base_uri": "https://localhost:8080/",
          "height": 206
        },
        "id": "DACJS_mXmP-D",
        "outputId": "09afc16b-baa9-43c3-d249-ff6d50b00534"
      },
      "outputs": [
        {
          "output_type": "execute_result",
          "data": {
            "text/plain": [
              "                                             Comment Emotion\n",
              "0  i seriously hate one subject to death but now ...    fear\n",
              "1                 im so full of life i feel appalled   anger\n",
              "2  i sit here to write i start to dig out my feel...    fear\n",
              "3  ive been really angry with r and i feel like a...     joy\n",
              "4  i feel suspicious if there is no one outside l...    fear"
            ],
            "text/html": [
              "\n",
              "  <div id=\"df-4582c0e6-8916-4656-8fc1-f62e063ca6b3\" class=\"colab-df-container\">\n",
              "    <div>\n",
              "<style scoped>\n",
              "    .dataframe tbody tr th:only-of-type {\n",
              "        vertical-align: middle;\n",
              "    }\n",
              "\n",
              "    .dataframe tbody tr th {\n",
              "        vertical-align: top;\n",
              "    }\n",
              "\n",
              "    .dataframe thead th {\n",
              "        text-align: right;\n",
              "    }\n",
              "</style>\n",
              "<table border=\"1\" class=\"dataframe\">\n",
              "  <thead>\n",
              "    <tr style=\"text-align: right;\">\n",
              "      <th></th>\n",
              "      <th>Comment</th>\n",
              "      <th>Emotion</th>\n",
              "    </tr>\n",
              "  </thead>\n",
              "  <tbody>\n",
              "    <tr>\n",
              "      <th>0</th>\n",
              "      <td>i seriously hate one subject to death but now ...</td>\n",
              "      <td>fear</td>\n",
              "    </tr>\n",
              "    <tr>\n",
              "      <th>1</th>\n",
              "      <td>im so full of life i feel appalled</td>\n",
              "      <td>anger</td>\n",
              "    </tr>\n",
              "    <tr>\n",
              "      <th>2</th>\n",
              "      <td>i sit here to write i start to dig out my feel...</td>\n",
              "      <td>fear</td>\n",
              "    </tr>\n",
              "    <tr>\n",
              "      <th>3</th>\n",
              "      <td>ive been really angry with r and i feel like a...</td>\n",
              "      <td>joy</td>\n",
              "    </tr>\n",
              "    <tr>\n",
              "      <th>4</th>\n",
              "      <td>i feel suspicious if there is no one outside l...</td>\n",
              "      <td>fear</td>\n",
              "    </tr>\n",
              "  </tbody>\n",
              "</table>\n",
              "</div>\n",
              "    <div class=\"colab-df-buttons\">\n",
              "\n",
              "  <div class=\"colab-df-container\">\n",
              "    <button class=\"colab-df-convert\" onclick=\"convertToInteractive('df-4582c0e6-8916-4656-8fc1-f62e063ca6b3')\"\n",
              "            title=\"Convert this dataframe to an interactive table.\"\n",
              "            style=\"display:none;\">\n",
              "\n",
              "  <svg xmlns=\"http://www.w3.org/2000/svg\" height=\"24px\" viewBox=\"0 -960 960 960\">\n",
              "    <path d=\"M120-120v-720h720v720H120Zm60-500h600v-160H180v160Zm220 220h160v-160H400v160Zm0 220h160v-160H400v160ZM180-400h160v-160H180v160Zm440 0h160v-160H620v160ZM180-180h160v-160H180v160Zm440 0h160v-160H620v160Z\"/>\n",
              "  </svg>\n",
              "    </button>\n",
              "\n",
              "  <style>\n",
              "    .colab-df-container {\n",
              "      display:flex;\n",
              "      gap: 12px;\n",
              "    }\n",
              "\n",
              "    .colab-df-convert {\n",
              "      background-color: #E8F0FE;\n",
              "      border: none;\n",
              "      border-radius: 50%;\n",
              "      cursor: pointer;\n",
              "      display: none;\n",
              "      fill: #1967D2;\n",
              "      height: 32px;\n",
              "      padding: 0 0 0 0;\n",
              "      width: 32px;\n",
              "    }\n",
              "\n",
              "    .colab-df-convert:hover {\n",
              "      background-color: #E2EBFA;\n",
              "      box-shadow: 0px 1px 2px rgba(60, 64, 67, 0.3), 0px 1px 3px 1px rgba(60, 64, 67, 0.15);\n",
              "      fill: #174EA6;\n",
              "    }\n",
              "\n",
              "    .colab-df-buttons div {\n",
              "      margin-bottom: 4px;\n",
              "    }\n",
              "\n",
              "    [theme=dark] .colab-df-convert {\n",
              "      background-color: #3B4455;\n",
              "      fill: #D2E3FC;\n",
              "    }\n",
              "\n",
              "    [theme=dark] .colab-df-convert:hover {\n",
              "      background-color: #434B5C;\n",
              "      box-shadow: 0px 1px 3px 1px rgba(0, 0, 0, 0.15);\n",
              "      filter: drop-shadow(0px 1px 2px rgba(0, 0, 0, 0.3));\n",
              "      fill: #FFFFFF;\n",
              "    }\n",
              "  </style>\n",
              "\n",
              "    <script>\n",
              "      const buttonEl =\n",
              "        document.querySelector('#df-4582c0e6-8916-4656-8fc1-f62e063ca6b3 button.colab-df-convert');\n",
              "      buttonEl.style.display =\n",
              "        google.colab.kernel.accessAllowed ? 'block' : 'none';\n",
              "\n",
              "      async function convertToInteractive(key) {\n",
              "        const element = document.querySelector('#df-4582c0e6-8916-4656-8fc1-f62e063ca6b3');\n",
              "        const dataTable =\n",
              "          await google.colab.kernel.invokeFunction('convertToInteractive',\n",
              "                                                    [key], {});\n",
              "        if (!dataTable) return;\n",
              "\n",
              "        const docLinkHtml = 'Like what you see? Visit the ' +\n",
              "          '<a target=\"_blank\" href=https://colab.research.google.com/notebooks/data_table.ipynb>data table notebook</a>'\n",
              "          + ' to learn more about interactive tables.';\n",
              "        element.innerHTML = '';\n",
              "        dataTable['output_type'] = 'display_data';\n",
              "        await google.colab.output.renderOutput(dataTable, element);\n",
              "        const docLink = document.createElement('div');\n",
              "        docLink.innerHTML = docLinkHtml;\n",
              "        element.appendChild(docLink);\n",
              "      }\n",
              "    </script>\n",
              "  </div>\n",
              "\n",
              "\n",
              "<div id=\"df-1deac384-4ac6-4513-82cd-b79d6d8df454\">\n",
              "  <button class=\"colab-df-quickchart\" onclick=\"quickchart('df-1deac384-4ac6-4513-82cd-b79d6d8df454')\"\n",
              "            title=\"Suggest charts\"\n",
              "            style=\"display:none;\">\n",
              "\n",
              "<svg xmlns=\"http://www.w3.org/2000/svg\" height=\"24px\"viewBox=\"0 0 24 24\"\n",
              "     width=\"24px\">\n",
              "    <g>\n",
              "        <path d=\"M19 3H5c-1.1 0-2 .9-2 2v14c0 1.1.9 2 2 2h14c1.1 0 2-.9 2-2V5c0-1.1-.9-2-2-2zM9 17H7v-7h2v7zm4 0h-2V7h2v10zm4 0h-2v-4h2v4z\"/>\n",
              "    </g>\n",
              "</svg>\n",
              "  </button>\n",
              "\n",
              "<style>\n",
              "  .colab-df-quickchart {\n",
              "      --bg-color: #E8F0FE;\n",
              "      --fill-color: #1967D2;\n",
              "      --hover-bg-color: #E2EBFA;\n",
              "      --hover-fill-color: #174EA6;\n",
              "      --disabled-fill-color: #AAA;\n",
              "      --disabled-bg-color: #DDD;\n",
              "  }\n",
              "\n",
              "  [theme=dark] .colab-df-quickchart {\n",
              "      --bg-color: #3B4455;\n",
              "      --fill-color: #D2E3FC;\n",
              "      --hover-bg-color: #434B5C;\n",
              "      --hover-fill-color: #FFFFFF;\n",
              "      --disabled-bg-color: #3B4455;\n",
              "      --disabled-fill-color: #666;\n",
              "  }\n",
              "\n",
              "  .colab-df-quickchart {\n",
              "    background-color: var(--bg-color);\n",
              "    border: none;\n",
              "    border-radius: 50%;\n",
              "    cursor: pointer;\n",
              "    display: none;\n",
              "    fill: var(--fill-color);\n",
              "    height: 32px;\n",
              "    padding: 0;\n",
              "    width: 32px;\n",
              "  }\n",
              "\n",
              "  .colab-df-quickchart:hover {\n",
              "    background-color: var(--hover-bg-color);\n",
              "    box-shadow: 0 1px 2px rgba(60, 64, 67, 0.3), 0 1px 3px 1px rgba(60, 64, 67, 0.15);\n",
              "    fill: var(--button-hover-fill-color);\n",
              "  }\n",
              "\n",
              "  .colab-df-quickchart-complete:disabled,\n",
              "  .colab-df-quickchart-complete:disabled:hover {\n",
              "    background-color: var(--disabled-bg-color);\n",
              "    fill: var(--disabled-fill-color);\n",
              "    box-shadow: none;\n",
              "  }\n",
              "\n",
              "  .colab-df-spinner {\n",
              "    border: 2px solid var(--fill-color);\n",
              "    border-color: transparent;\n",
              "    border-bottom-color: var(--fill-color);\n",
              "    animation:\n",
              "      spin 1s steps(1) infinite;\n",
              "  }\n",
              "\n",
              "  @keyframes spin {\n",
              "    0% {\n",
              "      border-color: transparent;\n",
              "      border-bottom-color: var(--fill-color);\n",
              "      border-left-color: var(--fill-color);\n",
              "    }\n",
              "    20% {\n",
              "      border-color: transparent;\n",
              "      border-left-color: var(--fill-color);\n",
              "      border-top-color: var(--fill-color);\n",
              "    }\n",
              "    30% {\n",
              "      border-color: transparent;\n",
              "      border-left-color: var(--fill-color);\n",
              "      border-top-color: var(--fill-color);\n",
              "      border-right-color: var(--fill-color);\n",
              "    }\n",
              "    40% {\n",
              "      border-color: transparent;\n",
              "      border-right-color: var(--fill-color);\n",
              "      border-top-color: var(--fill-color);\n",
              "    }\n",
              "    60% {\n",
              "      border-color: transparent;\n",
              "      border-right-color: var(--fill-color);\n",
              "    }\n",
              "    80% {\n",
              "      border-color: transparent;\n",
              "      border-right-color: var(--fill-color);\n",
              "      border-bottom-color: var(--fill-color);\n",
              "    }\n",
              "    90% {\n",
              "      border-color: transparent;\n",
              "      border-bottom-color: var(--fill-color);\n",
              "    }\n",
              "  }\n",
              "</style>\n",
              "\n",
              "  <script>\n",
              "    async function quickchart(key) {\n",
              "      const quickchartButtonEl =\n",
              "        document.querySelector('#' + key + ' button');\n",
              "      quickchartButtonEl.disabled = true;  // To prevent multiple clicks.\n",
              "      quickchartButtonEl.classList.add('colab-df-spinner');\n",
              "      try {\n",
              "        const charts = await google.colab.kernel.invokeFunction(\n",
              "            'suggestCharts', [key], {});\n",
              "      } catch (error) {\n",
              "        console.error('Error during call to suggestCharts:', error);\n",
              "      }\n",
              "      quickchartButtonEl.classList.remove('colab-df-spinner');\n",
              "      quickchartButtonEl.classList.add('colab-df-quickchart-complete');\n",
              "    }\n",
              "    (() => {\n",
              "      let quickchartButtonEl =\n",
              "        document.querySelector('#df-1deac384-4ac6-4513-82cd-b79d6d8df454 button');\n",
              "      quickchartButtonEl.style.display =\n",
              "        google.colab.kernel.accessAllowed ? 'block' : 'none';\n",
              "    })();\n",
              "  </script>\n",
              "</div>\n",
              "    </div>\n",
              "  </div>\n"
            ],
            "application/vnd.google.colaboratory.intrinsic+json": {
              "type": "dataframe",
              "variable_name": "data",
              "summary": "{\n  \"name\": \"data\",\n  \"rows\": 5937,\n  \"fields\": [\n    {\n      \"column\": \"Comment\",\n      \"properties\": {\n        \"dtype\": \"string\",\n        \"num_unique_values\": 5934,\n        \"samples\": [\n          \"i male are stupid first for woman cry babies and should get over it and you feel really cool for putting the stupid men in their place\",\n          \"im feeling queezy and cant be bothered putting these in order so here goes\",\n          \"i feel completely agitated\"\n        ],\n        \"semantic_type\": \"\",\n        \"description\": \"\"\n      }\n    },\n    {\n      \"column\": \"Emotion\",\n      \"properties\": {\n        \"dtype\": \"category\",\n        \"num_unique_values\": 3,\n        \"samples\": [\n          \"fear\",\n          \"anger\",\n          \"joy\"\n        ],\n        \"semantic_type\": \"\",\n        \"description\": \"\"\n      }\n    }\n  ]\n}"
            }
          },
          "metadata": {},
          "execution_count": 7
        }
      ],
      "source": [
        "# Open Dataset File\n",
        "data = pd.read_csv(f\"{data_dir}Emotion_classify_Data.csv\")\n",
        "data.head()"
      ]
    },
    {
      "cell_type": "markdown",
      "source": [
        "## Search Total Data, Total Null Values, and Total Duplicated Values"
      ],
      "metadata": {
        "id": "h-QIDcc3n-ay"
      }
    },
    {
      "cell_type": "code",
      "execution_count": 8,
      "metadata": {
        "colab": {
          "base_uri": "https://localhost:8080/"
        },
        "id": "QjDJIeZ6nauu",
        "outputId": "e6496221-aa12-4bf3-ab50-cc01e25b00c5"
      },
      "outputs": [
        {
          "output_type": "stream",
          "name": "stdout",
          "text": [
            "Total Row & Column: \n",
            "(5937, 2)\n",
            "\n",
            "Total null Values:\n",
            "Comment    0\n",
            "Emotion    0\n",
            "dtype: int64\n",
            "\n",
            "Total duplicated Values:\n",
            "0       False\n",
            "1       False\n",
            "2       False\n",
            "3       False\n",
            "4       False\n",
            "        ...  \n",
            "5932    False\n",
            "5933    False\n",
            "5934    False\n",
            "5935    False\n",
            "5936    False\n",
            "Length: 5937, dtype: bool\n"
          ]
        }
      ],
      "source": [
        "# Search Total Data, Total Null Values, and Total Duplicated Values\n",
        "total_data = data.shape\n",
        "null_data = data.isnull().sum()\n",
        "duplicated_data  = data.duplicated()\n",
        "print(f\"Total Row & Column: \\n{total_data}\\n\\nTotal null Values:\\n{null_data}\\n\\nTotal duplicated Values:\\n{duplicated_data}\")"
      ]
    },
    {
      "cell_type": "markdown",
      "source": [
        "## Count Emotions Value"
      ],
      "metadata": {
        "id": "jeD72UK5nplM"
      }
    },
    {
      "cell_type": "code",
      "source": [
        "data['Emotion'].value_counts()"
      ],
      "metadata": {
        "colab": {
          "base_uri": "https://localhost:8080/"
        },
        "id": "yrw-xhDmLhr8",
        "outputId": "a855b85e-840c-47fa-cc79-0f7a14119fc7"
      },
      "execution_count": 9,
      "outputs": [
        {
          "output_type": "execute_result",
          "data": {
            "text/plain": [
              "Emotion\n",
              "anger    2000\n",
              "joy      2000\n",
              "fear     1937\n",
              "Name: count, dtype: int64"
            ]
          },
          "metadata": {},
          "execution_count": 9
        }
      ]
    },
    {
      "cell_type": "markdown",
      "source": [
        "## Countplot Emotions"
      ],
      "metadata": {
        "id": "9w5As4SIpQ-n"
      }
    },
    {
      "cell_type": "code",
      "source": [
        "# Countplot Emotion\n",
        "sb.countplot(data.Emotion)"
      ],
      "metadata": {
        "colab": {
          "base_uri": "https://localhost:8080/",
          "height": 466
        },
        "id": "NsZt0iUYMKpK",
        "outputId": "a010d851-ad62-4459-edb6-be29a08ecf76"
      },
      "execution_count": 10,
      "outputs": [
        {
          "output_type": "execute_result",
          "data": {
            "text/plain": [
              "<Axes: xlabel='count', ylabel='Emotion'>"
            ]
          },
          "metadata": {},
          "execution_count": 10
        },
        {
          "output_type": "display_data",
          "data": {
            "text/plain": [
              "<Figure size 640x480 with 1 Axes>"
            ],
            "image/png": "[encoded data removed]"
          },
          "metadata": {}
        }
      ]
    },
    {
      "cell_type": "markdown",
      "source": [
        "## Import Another Required Library"
      ],
      "metadata": {
        "id": "4uHTtXVIphgx"
      }
    },
    {
      "cell_type": "code",
      "source": [
        "# Import Required Library\n",
        "from nltk.corpus import stopwords\n",
        "from nltk.tokenize import word_tokenize,sent_tokenize\n",
        "from bs4 import BeautifulSoup\n",
        "import re,string,unicodedata\n",
        "from sklearn.metrics import classification_report,confusion_matrix,accuracy_score\n",
        "from sklearn.model_selection import train_test_split\n",
        "from string import punctuation\n",
        "from nltk import pos_tag\n",
        "from nltk.corpus import wordnet\n",
        "import keras\n",
        "from keras.preprocessing import text, sequence\n",
        "import nltk\n",
        "nltk.download('stopwords')"
      ],
      "metadata": {
        "colab": {
          "base_uri": "https://localhost:8080/"
        },
        "id": "m5UFfDncWa36",
        "outputId": "edde89de-f773-4499-a238-f8d9305d6d1a"
      },
      "execution_count": 11,
      "outputs": [
        {
          "output_type": "stream",
          "name": "stderr",
          "text": [
            "[nltk_data] Downloading package stopwords to /root/nltk_data...\n",
            "[nltk_data]   Unzipping corpora/stopwords.zip.\n"
          ]
        },
        {
          "output_type": "execute_result",
          "data": {
            "text/plain": [
              "True"
            ]
          },
          "metadata": {},
          "execution_count": 11
        }
      ]
    },
    {
      "cell_type": "markdown",
      "source": [
        "## Stopwords"
      ],
      "metadata": {
        "id": "jwWuR9bDqOov"
      }
    },
    {
      "cell_type": "code",
      "source": [
        "stwd = set(stopwords.words('english'))\n",
        "punctuation = list(string.punctuation)\n",
        "stwd.update(punctuation)"
      ],
      "metadata": {
        "id": "tG3GWLNrWfb3"
      },
      "execution_count": 12,
      "outputs": []
    },
    {
      "cell_type": "markdown",
      "source": [
        "## Cleaning Text"
      ],
      "metadata": {
        "id": "ik-3l0EXqSB_"
      }
    },
    {
      "cell_type": "code",
      "source": [
        "import re\n",
        "from bs4 import BeautifulSoup\n",
        "from nltk.corpus import stopwords\n",
        "\n",
        "stwd = stopwords.words('english')\n",
        "\n",
        "def clean_text(text):\n",
        "\n",
        "    cleaned_text = text\n",
        "    cleaned_text = strip_html(cleaned_text)\n",
        "    cleaned_text = remove_between_square_brackets(cleaned_text)\n",
        "    cleaned_text = remove_url(cleaned_text)\n",
        "    cleaned_text = remove_stopwords(cleaned_text)\n",
        "\n",
        "    return cleaned_text\n",
        "\n",
        "def strip_html(text):\n",
        "    soup = BeautifulSoup(text, \"html.parser\")\n",
        "    return soup.get_text()\n",
        "\n",
        "def remove_between_square_brackets(text):\n",
        "    return re.sub('\\[[^]]*\\]', '', text)\n",
        "\n",
        "def remove_url(text):\n",
        "    return re.sub(r'http\\S+', '', text)\n",
        "\n",
        "def remove_stopwords(text):\n",
        "    final_text = []\n",
        "    for word in text.split():\n",
        "        if word.strip().lower() not in stwd:\n",
        "            final_text.append(word.strip())\n",
        "    return \" \".join(final_text)\n",
        "\n",
        "data['Comment'] = data['Comment'].apply(clean_text)"
      ],
      "metadata": {
        "id": "z1alPvsQWjL_"
      },
      "execution_count": 13,
      "outputs": []
    },
    {
      "cell_type": "code",
      "source": [
        "def get_corpus(text):\n",
        "    words = []\n",
        "    for i in text:\n",
        "        for j in i.split():\n",
        "            words.append(j.strip())\n",
        "    return words\n",
        "corpus = get_corpus(data.Comment)\n",
        "corpus[:10]"
      ],
      "metadata": {
        "colab": {
          "base_uri": "https://localhost:8080/"
        },
        "id": "GO1qIEbPXl5b",
        "outputId": "af91ac32-d79e-412c-86ab-dc516d3fd7a6"
      },
      "execution_count": 14,
      "outputs": [
        {
          "output_type": "execute_result",
          "data": {
            "text/plain": [
              "['seriously',\n",
              " 'hate',\n",
              " 'one',\n",
              " 'subject',\n",
              " 'death',\n",
              " 'feel',\n",
              " 'reluctant',\n",
              " 'drop',\n",
              " 'im',\n",
              " 'full']"
            ]
          },
          "metadata": {},
          "execution_count": 14
        }
      ]
    },
    {
      "cell_type": "code",
      "source": [
        "# Total Common Words\n",
        "from collections import Counter\n",
        "counter = Counter(corpus)\n",
        "most_common = counter.most_common(10)\n",
        "most_common = dict(most_common)\n",
        "most_common"
      ],
      "metadata": {
        "colab": {
          "base_uri": "https://localhost:8080/"
        },
        "id": "_wcnjsUnXskh",
        "outputId": "95c53300-b42d-448d-e4ad-ddd52e158080"
      },
      "execution_count": 15,
      "outputs": [
        {
          "output_type": "execute_result",
          "data": {
            "text/plain": [
              "{'feel': 4047,\n",
              " 'feeling': 1964,\n",
              " 'like': 992,\n",
              " 'im': 943,\n",
              " 'little': 326,\n",
              " 'really': 323,\n",
              " 'know': 315,\n",
              " 'time': 294,\n",
              " 'get': 292,\n",
              " 'want': 267}"
            ]
          },
          "metadata": {},
          "execution_count": 15
        }
      ]
    },
    {
      "cell_type": "code",
      "source": [
        "from sklearn.feature_extraction.text import CountVectorizer\n",
        "def get_top_text_ngrams(corpus, n, g):\n",
        "    cv = CountVectorizer(ngram_range=(g, g)).fit(corpus)\n",
        "    bag_words = cv.transform(corpus)\n",
        "    sum_words = bag_words.sum(axis=0)\n",
        "    words_freq = [(word, sum_words[0, idx]) for word, idx in cv.vocabulary_.items()]\n",
        "    words_freq =sorted(words_freq, key = lambda x: x[1], reverse=True)\n",
        "    return words_freq[:n]"
      ],
      "metadata": {
        "id": "hTvYFiUMXzmX"
      },
      "execution_count": 16,
      "outputs": []
    },
    {
      "cell_type": "markdown",
      "source": [
        "## Most Common Words Countplot"
      ],
      "metadata": {
        "id": "WF91sETNqcJW"
      }
    },
    {
      "cell_type": "code",
      "source": [
        "plt.figure(figsize = (16,9))\n",
        "most_common = get_top_text_ngrams(data.Comment, 10, 1)\n",
        "most_common = dict(most_common)\n",
        "sb.barplot(x=list(most_common.values()),y=list(most_common.keys()))"
      ],
      "metadata": {
        "colab": {
          "base_uri": "https://localhost:8080/",
          "height": 770
        },
        "id": "ufA2x1Z-YHQG",
        "outputId": "01aaa1f6-54c9-41f8-9181-ca673cb39d27"
      },
      "execution_count": 17,
      "outputs": [
        {
          "output_type": "execute_result",
          "data": {
            "text/plain": [
              "<Axes: >"
            ]
          },
          "metadata": {},
          "execution_count": 17
        },
        {
          "output_type": "display_data",
          "data": {
            "text/plain": [
              "<Figure size 1600x900 with 1 Axes>"
            ],
            "image/png": "[encoded data removed]"
          },
          "metadata": {}
        }
      ]
    },
    {
      "cell_type": "markdown",
      "source": [
        "## One-Hot Encoding"
      ],
      "metadata": {
        "id": "suJrpf31qjJs"
      }
    },
    {
      "cell_type": "code",
      "execution_count": 18,
      "metadata": {
        "colab": {
          "base_uri": "https://localhost:8080/",
          "height": 363
        },
        "id": "t28_YCq63bkw",
        "outputId": "aeb500a4-1c62-4ae9-a25e-e46bc8079984"
      },
      "outputs": [
        {
          "output_type": "execute_result",
          "data": {
            "text/plain": [
              "                                             Comment  anger  fear  joy\n",
              "0  seriously hate one subject death feel reluctan...      0     1    0\n",
              "1                         im full life feel appalled      1     0    0\n",
              "2  sit write start dig feelings think afraid acce...      0     1    0\n",
              "3  ive really angry r feel like idiot trusting fi...      0     0    1\n",
              "4  feel suspicious one outside like rapture happe...      0     1    0\n",
              "5  feel jealous becasue wanted kind love true con...      1     0    0\n",
              "6  friend mine keeps telling morbid things happen...      1     0    0\n",
              "7  finally fell asleep feeling angry useless stil...      1     0    0\n",
              "8                    feel bit annoyed antsy good way      1     0    0\n",
              "9  feel like regained another vital part life living      0     0    1"
            ],
            "text/html": [
              "\n",
              "  <div id=\"df-cdd4fdea-9238-41ad-960c-0dde925a9982\" class=\"colab-df-container\">\n",
              "    <div>\n",
              "<style scoped>\n",
              "    .dataframe tbody tr th:only-of-type {\n",
              "        vertical-align: middle;\n",
              "    }\n",
              "\n",
              "    .dataframe tbody tr th {\n",
              "        vertical-align: top;\n",
              "    }\n",
              "\n",
              "    .dataframe thead th {\n",
              "        text-align: right;\n",
              "    }\n",
              "</style>\n",
              "<table border=\"1\" class=\"dataframe\">\n",
              "  <thead>\n",
              "    <tr style=\"text-align: right;\">\n",
              "      <th></th>\n",
              "      <th>Comment</th>\n",
              "      <th>anger</th>\n",
              "      <th>fear</th>\n",
              "      <th>joy</th>\n",
              "    </tr>\n",
              "  </thead>\n",
              "  <tbody>\n",
              "    <tr>\n",
              "      <th>0</th>\n",
              "      <td>seriously hate one subject death feel reluctan...</td>\n",
              "      <td>0</td>\n",
              "      <td>1</td>\n",
              "      <td>0</td>\n",
              "    </tr>\n",
              "    <tr>\n",
              "      <th>1</th>\n",
              "      <td>im full life feel appalled</td>\n",
              "      <td>1</td>\n",
              "      <td>0</td>\n",
              "      <td>0</td>\n",
              "    </tr>\n",
              "    <tr>\n",
              "      <th>2</th>\n",
              "      <td>sit write start dig feelings think afraid acce...</td>\n",
              "      <td>0</td>\n",
              "      <td>1</td>\n",
              "      <td>0</td>\n",
              "    </tr>\n",
              "    <tr>\n",
              "      <th>3</th>\n",
              "      <td>ive really angry r feel like idiot trusting fi...</td>\n",
              "      <td>0</td>\n",
              "      <td>0</td>\n",
              "      <td>1</td>\n",
              "    </tr>\n",
              "    <tr>\n",
              "      <th>4</th>\n",
              "      <td>feel suspicious one outside like rapture happe...</td>\n",
              "      <td>0</td>\n",
              "      <td>1</td>\n",
              "      <td>0</td>\n",
              "    </tr>\n",
              "    <tr>\n",
              "      <th>5</th>\n",
              "      <td>feel jealous becasue wanted kind love true con...</td>\n",
              "      <td>1</td>\n",
              "      <td>0</td>\n",
              "      <td>0</td>\n",
              "    </tr>\n",
              "    <tr>\n",
              "      <th>6</th>\n",
              "      <td>friend mine keeps telling morbid things happen...</td>\n",
              "      <td>1</td>\n",
              "      <td>0</td>\n",
              "      <td>0</td>\n",
              "    </tr>\n",
              "    <tr>\n",
              "      <th>7</th>\n",
              "      <td>finally fell asleep feeling angry useless stil...</td>\n",
              "      <td>1</td>\n",
              "      <td>0</td>\n",
              "      <td>0</td>\n",
              "    </tr>\n",
              "    <tr>\n",
              "      <th>8</th>\n",
              "      <td>feel bit annoyed antsy good way</td>\n",
              "      <td>1</td>\n",
              "      <td>0</td>\n",
              "      <td>0</td>\n",
              "    </tr>\n",
              "    <tr>\n",
              "      <th>9</th>\n",
              "      <td>feel like regained another vital part life living</td>\n",
              "      <td>0</td>\n",
              "      <td>0</td>\n",
              "      <td>1</td>\n",
              "    </tr>\n",
              "  </tbody>\n",
              "</table>\n",
              "</div>\n",
              "    <div class=\"colab-df-buttons\">\n",
              "\n",
              "  <div class=\"colab-df-container\">\n",
              "    <button class=\"colab-df-convert\" onclick=\"convertToInteractive('df-cdd4fdea-9238-41ad-960c-0dde925a9982')\"\n",
              "            title=\"Convert this dataframe to an interactive table.\"\n",
              "            style=\"display:none;\">\n",
              "\n",
              "  <svg xmlns=\"http://www.w3.org/2000/svg\" height=\"24px\" viewBox=\"0 -960 960 960\">\n",
              "    <path d=\"M120-120v-720h720v720H120Zm60-500h600v-160H180v160Zm220 220h160v-160H400v160Zm0 220h160v-160H400v160ZM180-400h160v-160H180v160Zm440 0h160v-160H620v160ZM180-180h160v-160H180v160Zm440 0h160v-160H620v160Z\"/>\n",
              "  </svg>\n",
              "    </button>\n",
              "\n",
              "  <style>\n",
              "    .colab-df-container {\n",
              "      display:flex;\n",
              "      gap: 12px;\n",
              "    }\n",
              "\n",
              "    .colab-df-convert {\n",
              "      background-color: #E8F0FE;\n",
              "      border: none;\n",
              "      border-radius: 50%;\n",
              "      cursor: pointer;\n",
              "      display: none;\n",
              "      fill: #1967D2;\n",
              "      height: 32px;\n",
              "      padding: 0 0 0 0;\n",
              "      width: 32px;\n",
              "    }\n",
              "\n",
              "    .colab-df-convert:hover {\n",
              "      background-color: #E2EBFA;\n",
              "      box-shadow: 0px 1px 2px rgba(60, 64, 67, 0.3), 0px 1px 3px 1px rgba(60, 64, 67, 0.15);\n",
              "      fill: #174EA6;\n",
              "    }\n",
              "\n",
              "    .colab-df-buttons div {\n",
              "      margin-bottom: 4px;\n",
              "    }\n",
              "\n",
              "    [theme=dark] .colab-df-convert {\n",
              "      background-color: #3B4455;\n",
              "      fill: #D2E3FC;\n",
              "    }\n",
              "\n",
              "    [theme=dark] .colab-df-convert:hover {\n",
              "      background-color: #434B5C;\n",
              "      box-shadow: 0px 1px 3px 1px rgba(0, 0, 0, 0.15);\n",
              "      filter: drop-shadow(0px 1px 2px rgba(0, 0, 0, 0.3));\n",
              "      fill: #FFFFFF;\n",
              "    }\n",
              "  </style>\n",
              "\n",
              "    <script>\n",
              "      const buttonEl =\n",
              "        document.querySelector('#df-cdd4fdea-9238-41ad-960c-0dde925a9982 button.colab-df-convert');\n",
              "      buttonEl.style.display =\n",
              "        google.colab.kernel.accessAllowed ? 'block' : 'none';\n",
              "\n",
              "      async function convertToInteractive(key) {\n",
              "        const element = document.querySelector('#df-cdd4fdea-9238-41ad-960c-0dde925a9982');\n",
              "        const dataTable =\n",
              "          await google.colab.kernel.invokeFunction('convertToInteractive',\n",
              "                                                    [key], {});\n",
              "        if (!dataTable) return;\n",
              "\n",
              "        const docLinkHtml = 'Like what you see? Visit the ' +\n",
              "          '<a target=\"_blank\" href=https://colab.research.google.com/notebooks/data_table.ipynb>data table notebook</a>'\n",
              "          + ' to learn more about interactive tables.';\n",
              "        element.innerHTML = '';\n",
              "        dataTable['output_type'] = 'display_data';\n",
              "        await google.colab.output.renderOutput(dataTable, element);\n",
              "        const docLink = document.createElement('div');\n",
              "        docLink.innerHTML = docLinkHtml;\n",
              "        element.appendChild(docLink);\n",
              "      }\n",
              "    </script>\n",
              "  </div>\n",
              "\n",
              "\n",
              "<div id=\"df-4119758f-fffc-495a-93b7-5465b4bbdcd5\">\n",
              "  <button class=\"colab-df-quickchart\" onclick=\"quickchart('df-4119758f-fffc-495a-93b7-5465b4bbdcd5')\"\n",
              "            title=\"Suggest charts\"\n",
              "            style=\"display:none;\">\n",
              "\n",
              "<svg xmlns=\"http://www.w3.org/2000/svg\" height=\"24px\"viewBox=\"0 0 24 24\"\n",
              "     width=\"24px\">\n",
              "    <g>\n",
              "        <path d=\"M19 3H5c-1.1 0-2 .9-2 2v14c0 1.1.9 2 2 2h14c1.1 0 2-.9 2-2V5c0-1.1-.9-2-2-2zM9 17H7v-7h2v7zm4 0h-2V7h2v10zm4 0h-2v-4h2v4z\"/>\n",
              "    </g>\n",
              "</svg>\n",
              "  </button>\n",
              "\n",
              "<style>\n",
              "  .colab-df-quickchart {\n",
              "      --bg-color: #E8F0FE;\n",
              "      --fill-color: #1967D2;\n",
              "      --hover-bg-color: #E2EBFA;\n",
              "      --hover-fill-color: #174EA6;\n",
              "      --disabled-fill-color: #AAA;\n",
              "      --disabled-bg-color: #DDD;\n",
              "  }\n",
              "\n",
              "  [theme=dark] .colab-df-quickchart {\n",
              "      --bg-color: #3B4455;\n",
              "      --fill-color: #D2E3FC;\n",
              "      --hover-bg-color: #434B5C;\n",
              "      --hover-fill-color: #FFFFFF;\n",
              "      --disabled-bg-color: #3B4455;\n",
              "      --disabled-fill-color: #666;\n",
              "  }\n",
              "\n",
              "  .colab-df-quickchart {\n",
              "    background-color: var(--bg-color);\n",
              "    border: none;\n",
              "    border-radius: 50%;\n",
              "    cursor: pointer;\n",
              "    display: none;\n",
              "    fill: var(--fill-color);\n",
              "    height: 32px;\n",
              "    padding: 0;\n",
              "    width: 32px;\n",
              "  }\n",
              "\n",
              "  .colab-df-quickchart:hover {\n",
              "    background-color: var(--hover-bg-color);\n",
              "    box-shadow: 0 1px 2px rgba(60, 64, 67, 0.3), 0 1px 3px 1px rgba(60, 64, 67, 0.15);\n",
              "    fill: var(--button-hover-fill-color);\n",
              "  }\n",
              "\n",
              "  .colab-df-quickchart-complete:disabled,\n",
              "  .colab-df-quickchart-complete:disabled:hover {\n",
              "    background-color: var(--disabled-bg-color);\n",
              "    fill: var(--disabled-fill-color);\n",
              "    box-shadow: none;\n",
              "  }\n",
              "\n",
              "  .colab-df-spinner {\n",
              "    border: 2px solid var(--fill-color);\n",
              "    border-color: transparent;\n",
              "    border-bottom-color: var(--fill-color);\n",
              "    animation:\n",
              "      spin 1s steps(1) infinite;\n",
              "  }\n",
              "\n",
              "  @keyframes spin {\n",
              "    0% {\n",
              "      border-color: transparent;\n",
              "      border-bottom-color: var(--fill-color);\n",
              "      border-left-color: var(--fill-color);\n",
              "    }\n",
              "    20% {\n",
              "      border-color: transparent;\n",
              "      border-left-color: var(--fill-color);\n",
              "      border-top-color: var(--fill-color);\n",
              "    }\n",
              "    30% {\n",
              "      border-color: transparent;\n",
              "      border-left-color: var(--fill-color);\n",
              "      border-top-color: var(--fill-color);\n",
              "      border-right-color: var(--fill-color);\n",
              "    }\n",
              "    40% {\n",
              "      border-color: transparent;\n",
              "      border-right-color: var(--fill-color);\n",
              "      border-top-color: var(--fill-color);\n",
              "    }\n",
              "    60% {\n",
              "      border-color: transparent;\n",
              "      border-right-color: var(--fill-color);\n",
              "    }\n",
              "    80% {\n",
              "      border-color: transparent;\n",
              "      border-right-color: var(--fill-color);\n",
              "      border-bottom-color: var(--fill-color);\n",
              "    }\n",
              "    90% {\n",
              "      border-color: transparent;\n",
              "      border-bottom-color: var(--fill-color);\n",
              "    }\n",
              "  }\n",
              "</style>\n",
              "\n",
              "  <script>\n",
              "    async function quickchart(key) {\n",
              "      const quickchartButtonEl =\n",
              "        document.querySelector('#' + key + ' button');\n",
              "      quickchartButtonEl.disabled = true;  // To prevent multiple clicks.\n",
              "      quickchartButtonEl.classList.add('colab-df-spinner');\n",
              "      try {\n",
              "        const charts = await google.colab.kernel.invokeFunction(\n",
              "            'suggestCharts', [key], {});\n",
              "      } catch (error) {\n",
              "        console.error('Error during call to suggestCharts:', error);\n",
              "      }\n",
              "      quickchartButtonEl.classList.remove('colab-df-spinner');\n",
              "      quickchartButtonEl.classList.add('colab-df-quickchart-complete');\n",
              "    }\n",
              "    (() => {\n",
              "      let quickchartButtonEl =\n",
              "        document.querySelector('#df-4119758f-fffc-495a-93b7-5465b4bbdcd5 button');\n",
              "      quickchartButtonEl.style.display =\n",
              "        google.colab.kernel.accessAllowed ? 'block' : 'none';\n",
              "    })();\n",
              "  </script>\n",
              "</div>\n",
              "    </div>\n",
              "  </div>\n"
            ],
            "application/vnd.google.colaboratory.intrinsic+json": {
              "type": "dataframe",
              "variable_name": "new_data",
              "summary": "{\n  \"name\": \"new_data\",\n  \"rows\": 5937,\n  \"fields\": [\n    {\n      \"column\": \"Comment\",\n      \"properties\": {\n        \"dtype\": \"string\",\n        \"num_unique_values\": 5904,\n        \"samples\": [\n          \"keen incorporate use recovery tool feel tool useful allowing patient control mental health\",\n          \"went ahead shooting afterwards guys asked go drinks agreed knew rang tried work things angry feeling stubborn\",\n          \"feel hesitant tell truth leaving house get toy\"\n        ],\n        \"semantic_type\": \"\",\n        \"description\": \"\"\n      }\n    },\n    {\n      \"column\": \"anger\",\n      \"properties\": {\n        \"dtype\": \"number\",\n        \"std\": 0,\n        \"min\": 0,\n        \"max\": 1,\n        \"num_unique_values\": 2,\n        \"samples\": [\n          1,\n          0\n        ],\n        \"semantic_type\": \"\",\n        \"description\": \"\"\n      }\n    },\n    {\n      \"column\": \"fear\",\n      \"properties\": {\n        \"dtype\": \"number\",\n        \"std\": 0,\n        \"min\": 0,\n        \"max\": 1,\n        \"num_unique_values\": 2,\n        \"samples\": [\n          0,\n          1\n        ],\n        \"semantic_type\": \"\",\n        \"description\": \"\"\n      }\n    },\n    {\n      \"column\": \"joy\",\n      \"properties\": {\n        \"dtype\": \"number\",\n        \"std\": 0,\n        \"min\": 0,\n        \"max\": 1,\n        \"num_unique_values\": 2,\n        \"samples\": [\n          1,\n          0\n        ],\n        \"semantic_type\": \"\",\n        \"description\": \"\"\n      }\n    }\n  ]\n}"
            }
          },
          "metadata": {},
          "execution_count": 18
        }
      ],
      "source": [
        "# Data Emotion One-Hot Encoding\n",
        "emotion = pd.get_dummies(data.Emotion, dtype=int)\n",
        "new_data = pd.concat([data, emotion], axis=1)\n",
        "new_data = new_data.drop(columns='Emotion')\n",
        "new_data.head(10)"
      ]
    },
    {
      "cell_type": "code",
      "execution_count": 19,
      "metadata": {
        "colab": {
          "base_uri": "https://localhost:8080/"
        },
        "id": "s97nS9WM-Jtq",
        "outputId": "49352015-d87c-4b9c-b96b-76e0c97a0b1b"
      },
      "outputs": [
        {
          "output_type": "execute_result",
          "data": {
            "text/plain": [
              "Index(['Comment', 'anger', 'fear', 'joy'], dtype='object')"
            ]
          },
          "metadata": {},
          "execution_count": 19
        }
      ],
      "source": [
        "new_data.columns"
      ]
    },
    {
      "cell_type": "code",
      "execution_count": 20,
      "metadata": {
        "id": "bAusqWJl9yeP"
      },
      "outputs": [],
      "source": [
        "datas = new_data['Comment'].values\n",
        "emotions = new_data[['anger', 'fear', 'joy']].values"
      ]
    },
    {
      "cell_type": "code",
      "source": [
        "datas"
      ],
      "metadata": {
        "colab": {
          "base_uri": "https://localhost:8080/"
        },
        "id": "9wzdh8g2RWJD",
        "outputId": "2f1cb5c1-554a-46e9-9837-40f95b2c5600"
      },
      "execution_count": 21,
      "outputs": [
        {
          "output_type": "execute_result",
          "data": {
            "text/plain": [
              "array(['seriously hate one subject death feel reluctant drop',\n",
              "       'im full life feel appalled',\n",
              "       'sit write start dig feelings think afraid accept possibility might make',\n",
              "       ...,\n",
              "       'ever get married everything ready offer got together go clubs even perfect good looking guys feel intimated talking clever self',\n",
              "       'feel reluctant applying want able find company know least one person',\n",
              "       'wanted apologize feel like heartless bitch'], dtype=object)"
            ]
          },
          "metadata": {},
          "execution_count": 21
        }
      ]
    },
    {
      "cell_type": "code",
      "source": [
        "emotions"
      ],
      "metadata": {
        "colab": {
          "base_uri": "https://localhost:8080/"
        },
        "id": "SPnpcDslRXy1",
        "outputId": "1a853bb5-b096-47c9-ca88-3bfd41328a0f"
      },
      "execution_count": 22,
      "outputs": [
        {
          "output_type": "execute_result",
          "data": {
            "text/plain": [
              "array([[0, 1, 0],\n",
              "       [1, 0, 0],\n",
              "       [0, 1, 0],\n",
              "       ...,\n",
              "       [0, 0, 1],\n",
              "       [0, 1, 0],\n",
              "       [1, 0, 0]])"
            ]
          },
          "metadata": {},
          "execution_count": 22
        }
      ]
    },
    {
      "cell_type": "markdown",
      "source": [
        "## Tokenizer and Train Model"
      ],
      "metadata": {
        "id": "MlWdTalMqne6"
      }
    },
    {
      "cell_type": "code",
      "execution_count": 23,
      "metadata": {
        "id": "Pr9WvW1b6ekL"
      },
      "outputs": [],
      "source": [
        "x_train,x_test,y_train,y_test = train_test_split(datas, emotions, test_size = 0.2, shuffle=True)"
      ]
    },
    {
      "cell_type": "code",
      "execution_count": 24,
      "metadata": {
        "id": "mDCyMlO28Jda"
      },
      "outputs": [],
      "source": [
        "# Create Callback\n",
        "class Callback(tf.keras.callbacks.Callback):\n",
        "  def on_epoch_end(self, epoch, logs={}):\n",
        "    if(logs.get('accuracy') > 0.98 and logs.get('val_accuracy')> 0.92):\n",
        "      print(\"Accuracy have been achieved!\")\n",
        "      self.model.stop_training = True\n",
        "callbacks= Callback()"
      ]
    },
    {
      "cell_type": "code",
      "execution_count": 25,
      "metadata": {
        "id": "oTDsRVbABHsP"
      },
      "outputs": [],
      "source": [
        "vocab_size = 5000\n",
        "max_len = 200\n",
        "trunc_type = \"post\"\n",
        "oov_tok = \"<oov>\"\n",
        "\n",
        "tokenizer = Tokenizer(num_words=vocab_size, oov_token=oov_tok)\n",
        "tokenizer.fit_on_texts(x_train)\n",
        "\n",
        "word_index = tokenizer.word_index\n",
        "\n",
        "sequences_train = tokenizer.texts_to_sequences(x_train)\n",
        "sequences_test = tokenizer.texts_to_sequences(x_test)\n",
        "pad_train = pad_sequences(sequences_train, maxlen=max_len, truncating=trunc_type)\n",
        "pad_test = pad_sequences(sequences_test, maxlen=max_len, truncating=trunc_type)"
      ]
    },
    {
      "cell_type": "code",
      "execution_count": 26,
      "metadata": {
        "id": "S2MdF8CN8pHk",
        "colab": {
          "base_uri": "https://localhost:8080/"
        },
        "outputId": "e5a1c3f6-a06c-48c1-92b7-91750a0d163c"
      },
      "outputs": [
        {
          "output_type": "stream",
          "name": "stdout",
          "text": [
            "Model: \"sequential\"\n",
            "_________________________________________________________________\n",
            " Layer (type)                Output Shape              Param #   \n",
            "=================================================================\n",
            " embedding (Embedding)       (None, 200, 64)           320000    \n",
            "                                                                 \n",
            " lstm (LSTM)                 (None, 128)               98816     \n",
            "                                                                 \n",
            " dense (Dense)               (None, 128)               16512     \n",
            "                                                                 \n",
            " dropout (Dropout)           (None, 128)               0         \n",
            "                                                                 \n",
            " dense_1 (Dense)             (None, 64)                8256      \n",
            "                                                                 \n",
            " dropout_1 (Dropout)         (None, 64)                0         \n",
            "                                                                 \n",
            " dense_2 (Dense)             (None, 3)                 195       \n",
            "                                                                 \n",
            "=================================================================\n",
            "Total params: 443779 (1.69 MB)\n",
            "Trainable params: 443779 (1.69 MB)\n",
            "Non-trainable params: 0 (0.00 Byte)\n",
            "_________________________________________________________________\n"
          ]
        }
      ],
      "source": [
        "model = tf.keras.Sequential([\n",
        "    tf.keras.layers.Embedding(input_dim=vocab_size, output_dim=64, input_length=max_len),\n",
        "    tf.keras.layers.LSTM(128),\n",
        "    tf.keras.layers.Dense(128, activation='relu'),\n",
        "    tf.keras.layers.Dropout(0.5),\n",
        "    tf.keras.layers.Dense(64, activation='relu'),\n",
        "    tf.keras.layers.Dropout(0.5),\n",
        "    tf.keras.layers.Dense(3, activation='softmax')\n",
        "])\n",
        "model.compile(optimizer='adam', metrics=['accuracy'], loss='categorical_crossentropy',)\n",
        "model.summary()"
      ]
    },
    {
      "cell_type": "code",
      "source": [
        "history = model.fit(pad_train, y_train, epochs=50, validation_data=(pad_test, y_test), batch_size=64, verbose=2, callbacks=[callbacks])"
      ],
      "metadata": {
        "colab": {
          "base_uri": "https://localhost:8080/"
        },
        "id": "-OKI7XvpQtgM",
        "outputId": "610ec49f-c5d7-4ed9-b6b5-3386992c532d"
      },
      "execution_count": 27,
      "outputs": [
        {
          "output_type": "stream",
          "name": "stdout",
          "text": [
            "Epoch 1/50\n",
            "75/75 - 15s - loss: 1.0903 - accuracy: 0.3788 - val_loss: 1.0105 - val_accuracy: 0.6313 - 15s/epoch - 201ms/step\n",
            "Epoch 2/50\n",
            "75/75 - 6s - loss: 0.5719 - accuracy: 0.8052 - val_loss: 0.3258 - val_accuracy: 0.8897 - 6s/epoch - 81ms/step\n",
            "Epoch 3/50\n",
            "75/75 - 3s - loss: 0.1251 - accuracy: 0.9693 - val_loss: 0.2538 - val_accuracy: 0.9268 - 3s/epoch - 46ms/step\n",
            "Epoch 4/50\n",
            "75/75 - 3s - loss: 0.0629 - accuracy: 0.9859 - val_loss: 0.5186 - val_accuracy: 0.8670 - 3s/epoch - 38ms/step\n",
            "Epoch 5/50\n",
            "75/75 - 2s - loss: 0.0516 - accuracy: 0.9872 - val_loss: 0.3155 - val_accuracy: 0.9133 - 2s/epoch - 27ms/step\n",
            "Epoch 6/50\n",
            "75/75 - 2s - loss: 0.0269 - accuracy: 0.9937 - val_loss: 0.4163 - val_accuracy: 0.9074 - 2s/epoch - 23ms/step\n",
            "Epoch 7/50\n",
            "75/75 - 1s - loss: 0.0209 - accuracy: 0.9945 - val_loss: 0.4288 - val_accuracy: 0.9125 - 988ms/epoch - 13ms/step\n",
            "Epoch 8/50\n",
            "75/75 - 1s - loss: 0.0181 - accuracy: 0.9956 - val_loss: 0.4813 - val_accuracy: 0.9082 - 1s/epoch - 19ms/step\n",
            "Epoch 9/50\n",
            "75/75 - 2s - loss: 0.0186 - accuracy: 0.9973 - val_loss: 0.7640 - val_accuracy: 0.8519 - 2s/epoch - 21ms/step\n",
            "Epoch 10/50\n",
            "75/75 - 1s - loss: 0.0750 - accuracy: 0.9821 - val_loss: 0.4598 - val_accuracy: 0.8695 - 1s/epoch - 17ms/step\n",
            "Epoch 11/50\n",
            "75/75 - 1s - loss: 0.0256 - accuracy: 0.9928 - val_loss: 0.4841 - val_accuracy: 0.8973 - 1s/epoch - 17ms/step\n",
            "Epoch 12/50\n",
            "75/75 - 2s - loss: 0.0186 - accuracy: 0.9954 - val_loss: 0.5591 - val_accuracy: 0.8914 - 2s/epoch - 21ms/step\n",
            "Epoch 13/50\n",
            "75/75 - 2s - loss: 0.0118 - accuracy: 0.9973 - val_loss: 0.5539 - val_accuracy: 0.8998 - 2s/epoch - 23ms/step\n",
            "Epoch 14/50\n",
            "75/75 - 1s - loss: 0.0088 - accuracy: 0.9983 - val_loss: 0.6010 - val_accuracy: 0.8998 - 1s/epoch - 18ms/step\n",
            "Epoch 15/50\n",
            "75/75 - 1s - loss: 0.0072 - accuracy: 0.9985 - val_loss: 0.6391 - val_accuracy: 0.8981 - 1s/epoch - 19ms/step\n",
            "Epoch 16/50\n",
            "75/75 - 1s - loss: 0.0106 - accuracy: 0.9968 - val_loss: 0.7241 - val_accuracy: 0.8788 - 1s/epoch - 16ms/step\n",
            "Epoch 17/50\n",
            "75/75 - 1s - loss: 0.0121 - accuracy: 0.9971 - val_loss: 0.6870 - val_accuracy: 0.8923 - 1s/epoch - 19ms/step\n",
            "Epoch 18/50\n",
            "75/75 - 1s - loss: 0.0091 - accuracy: 0.9981 - val_loss: 0.7006 - val_accuracy: 0.8948 - 969ms/epoch - 13ms/step\n",
            "Epoch 19/50\n",
            "75/75 - 1s - loss: 0.0138 - accuracy: 0.9964 - val_loss: 0.7510 - val_accuracy: 0.8670 - 815ms/epoch - 11ms/step\n",
            "Epoch 20/50\n",
            "75/75 - 1s - loss: 0.0132 - accuracy: 0.9958 - val_loss: 0.7353 - val_accuracy: 0.8788 - 969ms/epoch - 13ms/step\n",
            "Epoch 21/50\n",
            "75/75 - 1s - loss: 0.0293 - accuracy: 0.9924 - val_loss: 0.6583 - val_accuracy: 0.8830 - 961ms/epoch - 13ms/step\n",
            "Epoch 22/50\n",
            "75/75 - 1s - loss: 0.0106 - accuracy: 0.9973 - val_loss: 0.6624 - val_accuracy: 0.8864 - 1s/epoch - 16ms/step\n",
            "Epoch 23/50\n",
            "75/75 - 1s - loss: 0.0053 - accuracy: 0.9985 - val_loss: 0.7049 - val_accuracy: 0.8872 - 1s/epoch - 19ms/step\n",
            "Epoch 24/50\n",
            "75/75 - 1s - loss: 0.0068 - accuracy: 0.9981 - val_loss: 0.7811 - val_accuracy: 0.8872 - 1s/epoch - 15ms/step\n",
            "Epoch 25/50\n",
            "75/75 - 1s - loss: 0.0039 - accuracy: 0.9987 - val_loss: 0.7583 - val_accuracy: 0.8923 - 819ms/epoch - 11ms/step\n",
            "Epoch 26/50\n",
            "75/75 - 1s - loss: 0.0047 - accuracy: 0.9983 - val_loss: 0.8189 - val_accuracy: 0.8788 - 810ms/epoch - 11ms/step\n",
            "Epoch 27/50\n",
            "75/75 - 1s - loss: 0.0076 - accuracy: 0.9971 - val_loss: 0.8318 - val_accuracy: 0.8838 - 981ms/epoch - 13ms/step\n",
            "Epoch 28/50\n",
            "75/75 - 1s - loss: 0.0063 - accuracy: 0.9983 - val_loss: 0.8047 - val_accuracy: 0.8872 - 957ms/epoch - 13ms/step\n",
            "Epoch 29/50\n",
            "75/75 - 1s - loss: 0.0031 - accuracy: 0.9989 - val_loss: 0.8120 - val_accuracy: 0.8906 - 1s/epoch - 19ms/step\n",
            "Epoch 30/50\n",
            "75/75 - 1s - loss: 0.0021 - accuracy: 0.9994 - val_loss: 0.8742 - val_accuracy: 0.8889 - 1s/epoch - 15ms/step\n",
            "Epoch 31/50\n",
            "75/75 - 1s - loss: 0.0035 - accuracy: 0.9987 - val_loss: 0.8727 - val_accuracy: 0.8889 - 825ms/epoch - 11ms/step\n",
            "Epoch 32/50\n",
            "75/75 - 1s - loss: 0.0202 - accuracy: 0.9949 - val_loss: 1.0049 - val_accuracy: 0.8350 - 1s/epoch - 15ms/step\n",
            "Epoch 33/50\n",
            "75/75 - 1s - loss: 0.1667 - accuracy: 0.9789 - val_loss: 1.1157 - val_accuracy: 0.7904 - 1s/epoch - 19ms/step\n",
            "Epoch 34/50\n",
            "75/75 - 1s - loss: 0.0748 - accuracy: 0.9762 - val_loss: 0.4569 - val_accuracy: 0.9040 - 1s/epoch - 18ms/step\n",
            "Epoch 35/50\n",
            "75/75 - 1s - loss: 0.0114 - accuracy: 0.9964 - val_loss: 0.5082 - val_accuracy: 0.9007 - 828ms/epoch - 11ms/step\n",
            "Epoch 36/50\n",
            "75/75 - 1s - loss: 0.0047 - accuracy: 0.9985 - val_loss: 0.5309 - val_accuracy: 0.9057 - 1s/epoch - 15ms/step\n",
            "Epoch 37/50\n",
            "75/75 - 1s - loss: 0.0033 - accuracy: 0.9992 - val_loss: 0.5710 - val_accuracy: 0.9074 - 965ms/epoch - 13ms/step\n",
            "Epoch 38/50\n",
            "75/75 - 1s - loss: 0.0028 - accuracy: 0.9992 - val_loss: 0.5775 - val_accuracy: 0.9049 - 963ms/epoch - 13ms/step\n",
            "Epoch 39/50\n",
            "75/75 - 1s - loss: 0.0023 - accuracy: 0.9989 - val_loss: 0.5752 - val_accuracy: 0.9108 - 1s/epoch - 17ms/step\n",
            "Epoch 40/50\n",
            "75/75 - 1s - loss: 0.0019 - accuracy: 0.9996 - val_loss: 0.6123 - val_accuracy: 0.9082 - 959ms/epoch - 13ms/step\n",
            "Epoch 41/50\n",
            "75/75 - 1s - loss: 0.0027 - accuracy: 0.9989 - val_loss: 0.6599 - val_accuracy: 0.8990 - 1s/epoch - 15ms/step\n",
            "Epoch 42/50\n",
            "75/75 - 1s - loss: 0.0036 - accuracy: 0.9989 - val_loss: 0.6107 - val_accuracy: 0.9116 - 1s/epoch - 13ms/step\n",
            "Epoch 43/50\n",
            "75/75 - 1s - loss: 0.0022 - accuracy: 0.9996 - val_loss: 0.6013 - val_accuracy: 0.9082 - 1s/epoch - 14ms/step\n",
            "Epoch 44/50\n",
            "75/75 - 1s - loss: 0.0022 - accuracy: 0.9992 - val_loss: 0.6138 - val_accuracy: 0.9066 - 1s/epoch - 15ms/step\n",
            "Epoch 45/50\n",
            "75/75 - 1s - loss: 0.0022 - accuracy: 0.9987 - val_loss: 0.6171 - val_accuracy: 0.9116 - 1s/epoch - 17ms/step\n",
            "Epoch 46/50\n",
            "75/75 - 1s - loss: 0.0013 - accuracy: 0.9996 - val_loss: 0.6692 - val_accuracy: 0.9099 - 876ms/epoch - 12ms/step\n",
            "Epoch 47/50\n",
            "75/75 - 1s - loss: 0.0013 - accuracy: 0.9994 - val_loss: 0.6359 - val_accuracy: 0.9158 - 813ms/epoch - 11ms/step\n",
            "Epoch 48/50\n",
            "Accuracy have been achieved!\n",
            "75/75 - 1s - loss: 0.0016 - accuracy: 0.9992 - val_loss: 0.6817 - val_accuracy: 0.9226 - 998ms/epoch - 13ms/step\n"
          ]
        }
      ]
    },
    {
      "cell_type": "markdown",
      "source": [
        "## Modela Evaluation: Model Accuracy and Model Loss Plot"
      ],
      "metadata": {
        "id": "H-yOW3SGqslc"
      }
    },
    {
      "cell_type": "code",
      "source": [
        "acc = history.history['accuracy']\n",
        "val_acc = history.history['val_accuracy']\n",
        "loss = history.history['loss']\n",
        "val_loss = history.history['val_loss']\n",
        "\n",
        "epochs = range(len(acc))\n",
        "\n",
        "# Create a subplot figure\n",
        "plt.figure(figsize=(20, 5))  # Adjust figure size as needed\n",
        "\n",
        "# Subplot for Accuracy\n",
        "plt.subplot(1, 2, 1)  # 1 row, 2 columns, subplot 1\n",
        "plt.plot(epochs, acc, 'r', label='Train Accuracy')\n",
        "plt.plot(epochs, val_acc, 'b', label='Validation Accuracy')\n",
        "plt.title('Model Accuracy')\n",
        "plt.legend(loc=0)\n",
        "\n",
        "# Subplot for all\n",
        "plt.subplot(1, 2, 2)  # 1 row, 2 columns, subplot 2\n",
        "plt.plot(epochs, acc, 'blue', label='Train Accuracy')\n",
        "plt.plot(epochs, val_acc, 'green', label='Validation Accuracy')\n",
        "plt.plot(epochs, loss, 'red', label='Train Loss')\n",
        "plt.plot(epochs, val_loss, 'orange', label='Validation Loss')\n",
        "plt.title('Model Accuracy and Loss')\n",
        "plt.legend(loc=0)\n",
        "\n",
        "\n",
        "# Adjust layout to prevent overlapping elements\n",
        "plt.tight_layout()\n",
        "\n",
        "plt.show()"
      ],
      "metadata": {
        "colab": {
          "base_uri": "https://localhost:8080/",
          "height": 438
        },
        "id": "OoSWQwGfwAG9",
        "outputId": "b8055c46-c2ca-4a7b-c9d9-0d4aad650997"
      },
      "execution_count": 30,
      "outputs": [
        {
          "output_type": "display_data",
          "data": {
            "text/plain": [
              "<Figure size 2000x500 with 2 Axes>"
            ],
            "image/png": "[encoded data removed]"
          },
          "metadata": {}
        }
      ]
    }
  ],
  "metadata": {
    "colab": {
      "provenance": [],
      "gpuType": "T4"
    },
    "kernelspec": {
      "display_name": "Python 3",
      "name": "python3"
    },
    "language_info": {
      "name": "python"
    },
    "accelerator": "GPU"
  },
  "nbformat": 4,
  "nbformat_minor": 0
}
